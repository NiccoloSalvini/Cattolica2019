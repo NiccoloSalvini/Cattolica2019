{
 "cells": [
  {
   "cell_type": "markdown",
   "metadata": {},
   "source": [
    "Introduction to Python\n",
    "================================\n",
    "\n",
    "Lesson 1 Part 2\n",
    "--------"
   ]
  },
  {
   "cell_type": "markdown",
   "metadata": {
    "slideshow": {
     "slide_type": "slide"
    }
   },
   "source": [
    "# First Lesson: loops and conditions\n",
    "\n",
    "In this part of the lesson we will focus on \n",
    "\n",
    "  - Loops: for and while\n",
    "  - Conditions\n",
    "  \n",
    "We have already used some of this in the previous lesson."
   ]
  },
  {
   "cell_type": "markdown",
   "metadata": {
    "slideshow": {
     "slide_type": "slide"
    }
   },
   "source": [
    "## For Loop\n",
    "\n",
    "In Pyhon for loop are widely used. We will focus on:\n",
    "\n",
    "  - Normal syntax\n",
    "  - Oneliner syntax\n",
    "  - Alternatives\n",
    "  - Comparison with R"
   ]
  },
  {
   "cell_type": "code",
   "execution_count": 4,
   "metadata": {},
   "outputs": [
    {
     "data": {
      "text/plain": [
       "3"
      ]
     },
     "execution_count": 4,
     "metadata": {},
     "output_type": "execute_result"
    }
   ],
   "source": [
    "dictEx = {'a':[1,2,3],'b':{'pippo':2,'pluto':3},'c':3}\n",
    "len(dictEx.keys())"
   ]
  },
  {
   "cell_type": "code",
   "execution_count": 25,
   "metadata": {
    "slideshow": {
     "slide_type": "subslide"
    }
   },
   "outputs": [],
   "source": [
    "from pprint import pprint as pp"
   ]
  },
  {
   "cell_type": "code",
   "execution_count": 35,
   "metadata": {
    "slideshow": {
     "slide_type": "fragment"
    }
   },
   "outputs": [],
   "source": [
    "%load_ext rpy2.ipython"
   ]
  },
  {
   "cell_type": "code",
   "execution_count": 5,
   "metadata": {
    "slideshow": {
     "slide_type": "fragment"
    }
   },
   "outputs": [
    {
     "name": "stdout",
     "output_type": "stream",
     "text": [
      "Type di range: <class 'range'>\n"
     ]
    }
   ],
   "source": [
    "#Basic format\n",
    "r=range(0,5)\n",
    "print('Type di range: %s'%type(r))"
   ]
  },
  {
   "cell_type": "code",
   "execution_count": 6,
   "metadata": {
    "slideshow": {
     "slide_type": "fragment"
    }
   },
   "outputs": [
    {
     "name": "stdout",
     "output_type": "stream",
     "text": [
      "0\n",
      "1\n",
      "2\n",
      "3\n",
      "4\n"
     ]
    }
   ],
   "source": [
    "for i in r:\n",
    "    print(i)\n",
    "    "
   ]
  },
  {
   "cell_type": "code",
   "execution_count": 9,
   "metadata": {
    "slideshow": {
     "slide_type": "fragment"
    }
   },
   "outputs": [
    {
     "name": "stdout",
     "output_type": "stream",
     "text": [
      "Loop over letters in words\n",
      "H\n",
      "e\n",
      "l\n",
      "l\n",
      "o\n",
      "One liner\n"
     ]
    },
    {
     "data": {
      "text/plain": [
       "['H', 'e', 'l', 'l', 'o']"
      ]
     },
     "execution_count": 9,
     "metadata": {},
     "output_type": "execute_result"
    }
   ],
   "source": [
    "s=\"Hello\"\n",
    "print('Loop over letters in words')\n",
    "for letter in s:\n",
    "    print(letter)\n",
    "print('One liner')\n",
    "sL=[letter for letter in s]\n",
    "sL2 = []\n",
    "for let in s:\n",
    "    sL2.append(let)\n",
    "sL2"
   ]
  },
  {
   "cell_type": "markdown",
   "metadata": {},
   "source": [
    "What is `sL`?"
   ]
  },
  {
   "cell_type": "code",
   "execution_count": null,
   "metadata": {
    "slideshow": {
     "slide_type": "fragment"
    }
   },
   "outputs": [],
   "source": [
    "print(sL)"
   ]
  },
  {
   "cell_type": "code",
   "execution_count": 22,
   "metadata": {
    "slideshow": {
     "slide_type": "fragment"
    }
   },
   "outputs": [
    {
     "name": "stdout",
     "output_type": "stream",
     "text": [
      "Enumerate items in something\n",
      "The letter in position 0 is H\n",
      "The letter in position 1 is e\n",
      "The letter in position 2 is l\n",
      "The letter in position 3 is l\n",
      "The letter in position 4 is o\n"
     ]
    }
   ],
   "source": [
    "print('Enumerate items in something')\n",
    "for i,letter in enumerate(s):\n",
    "    print('The letter in position %i is %s'%(i,letter))"
   ]
  },
  {
   "cell_type": "code",
   "execution_count": 21,
   "metadata": {
    "slideshow": {
     "slide_type": "fragment"
    }
   },
   "outputs": [
    {
     "name": "stdout",
     "output_type": "stream",
     "text": [
      "a is equal to__ 1 and b is equal to 2\n"
     ]
    }
   ],
   "source": [
    "a=1\n",
    "b='2'\n",
    "s_test = f'a is equal to__ {a} and b is equal to {b}'\n",
    "print(s_test)"
   ]
  },
  {
   "cell_type": "code",
   "execution_count": 11,
   "metadata": {
    "slideshow": {
     "slide_type": "fragment"
    }
   },
   "outputs": [
    {
     "name": "stdout",
     "output_type": "stream",
     "text": [
      "0 H\n",
      "1 e\n",
      "2 l\n",
      "3 l\n",
      "4 o\n"
     ]
    }
   ],
   "source": [
    "count = 0\n",
    "for let in s:\n",
    "    print(count,let)\n",
    "    count = count +1\n",
    "    "
   ]
  },
  {
   "cell_type": "markdown",
   "metadata": {
    "slideshow": {
     "slide_type": "fragment"
    }
   },
   "source": [
    "**NOTE:** Again please take note that in python we always start from **0**"
   ]
  },
  {
   "cell_type": "code",
   "execution_count": 23,
   "metadata": {
    "slideshow": {
     "slide_type": "subslide"
    }
   },
   "outputs": [],
   "source": [
    "#Another one liner\n",
    "d={k:v for v,k in enumerate(s)}"
   ]
  },
  {
   "cell_type": "markdown",
   "metadata": {},
   "source": [
    "What is the type of `d`? \n",
    "\n",
    "What is the content of `d`"
   ]
  },
  {
   "cell_type": "code",
   "execution_count": 27,
   "metadata": {
    "slideshow": {
     "slide_type": "subslide"
    }
   },
   "outputs": [
    {
     "name": "stdout",
     "output_type": "stream",
     "text": [
      "{'H': 0, 'e': 1, 'l': 3, 'o': 4}\n"
     ]
    },
    {
     "data": {
      "text/plain": [
       "dict_keys(['H', 'e', 'l', 'o'])"
      ]
     },
     "execution_count": 27,
     "metadata": {},
     "output_type": "execute_result"
    }
   ],
   "source": [
    "pp(d)"
   ]
  },
  {
   "cell_type": "code",
   "execution_count": 31,
   "metadata": {
    "slideshow": {
     "slide_type": "subslide"
    }
   },
   "outputs": [
    {
     "name": "stdout",
     "output_type": "stream",
     "text": [
      "Usage of items for loop over a dictionary\n",
      "The value for key H is 0\n",
      "The value for key e is 1\n",
      "The value for key l is 3\n",
      "The value for key o is 4\n",
      "H 0\n",
      "e 1\n",
      "l 3\n",
      "o 4\n"
     ]
    }
   ],
   "source": [
    "print('Usage of items for loop over a dictionary')\n",
    "for key,value in d.items():\n",
    "    print('The value for key %s is %s'%(key,str(value)))\n",
    "\n",
    "\n",
    "for i in {} :\n",
    "    print(l_k[i],l_v[i])\n",
    "    "
   ]
  },
  {
   "cell_type": "markdown",
   "metadata": {},
   "source": [
    "## Exercise \n",
    "\n",
    "*The House of Papel use case*:\n",
    "\n",
    "Create a list of characters with *Nairoby*, *Rio*, *Berlin* and *Oslo*.\n",
    "\n",
    "Create a list of jobs with: *Boss*, *Killer*, *Hacker* and *Forger*.\n",
    "\n",
    "Using a for loop create ad dictionary that contains for each job the relative character.\n",
    "\n",
    "**EXTRA**: how we can create the same dictionary _without_ using a for loop? Try to search on-line."
   ]
  },
  {
   "cell_type": "code",
   "execution_count": 33,
   "metadata": {},
   "outputs": [
    {
     "name": "stdout",
     "output_type": "stream",
     "text": [
      "{'Boss': 'Nairoby', 'Forger': 'Olso', 'Hacker': 'Berlin', 'Killer': 'Rio'}\n"
     ]
    }
   ],
   "source": [
    "listChar = ['Nairoby','Rio','Berlin','Olso']\n",
    "listJob = ['Boss','Killer','Hacker','Forger']\n",
    "dictHouse = {}\n",
    "for i,v in enumerate(listChar):\n",
    "    dictHouse[listJob[i]] = v\n",
    "pp(dictHouse)    "
   ]
  },
  {
   "cell_type": "markdown",
   "metadata": {
    "slideshow": {
     "slide_type": "slide"
    }
   },
   "source": [
    "### Comparison of performance between R and Python on for loops\n",
    "\n",
    "Lets do a speed test using a long list.\n",
    "\n",
    "The difference that will see are due to different nature of object in R and Python.\n",
    "\n",
    "In R variabiles are most of the time vectors, and R is optimize to work with vector. Using a `for` loop in R you are not using this nature, but you are considering one element at the time.\n"
   ]
  },
  {
   "cell_type": "markdown",
   "metadata": {},
   "source": [
    "Now we create the list in R"
   ]
  },
  {
   "cell_type": "code",
   "execution_count": 36,
   "metadata": {
    "slideshow": {
     "slide_type": "subslide"
    }
   },
   "outputs": [
    {
     "data": {
      "text/plain": [
       "[1] 10000\n"
      ]
     },
     "metadata": {},
     "output_type": "display_data"
    }
   ],
   "source": [
    "%%R -o longListR\n",
    "longListR=seq(1,10000)\n",
    "print(length(longListR))"
   ]
  },
  {
   "cell_type": "markdown",
   "metadata": {
    "slideshow": {
     "slide_type": "fragment"
    }
   },
   "source": [
    "Then we create the list in python"
   ]
  },
  {
   "cell_type": "code",
   "execution_count": 37,
   "metadata": {
    "slideshow": {
     "slide_type": "fragment"
    }
   },
   "outputs": [
    {
     "name": "stdout",
     "output_type": "stream",
     "text": [
      "10000\n"
     ]
    }
   ],
   "source": [
    "longListP=[i for i in range(0,10000)]\n",
    "#longListP=range(0,10000)\n",
    "print(len(longListP))"
   ]
  },
  {
   "cell_type": "code",
   "execution_count": 39,
   "metadata": {
    "slideshow": {
     "slide_type": "fragment"
    }
   },
   "outputs": [
    {
     "name": "stdout",
     "output_type": "stream",
     "text": [
      "3.14 ms ± 130 µs per loop (mean ± std. dev. of 7 runs, 100 loops each)\n"
     ]
    }
   ],
   "source": [
    "%%timeit -n 100\n",
    "%%R -i longListR\n",
    "#longList=seq(1,10000)\n",
    "for (i in longListR){a=1}"
   ]
  },
  {
   "cell_type": "code",
   "execution_count": 40,
   "metadata": {
    "slideshow": {
     "slide_type": "fragment"
    }
   },
   "outputs": [
    {
     "name": "stdout",
     "output_type": "stream",
     "text": [
      "141 µs ± 24.1 µs per loop (mean ± std. dev. of 7 runs, 100 loops each)\n"
     ]
    }
   ],
   "source": [
    "%%timeit -n 100\n",
    "for i in longListP:\n",
    "    a=1"
   ]
  },
  {
   "cell_type": "markdown",
   "metadata": {
    "slideshow": {
     "slide_type": "slide"
    }
   },
   "source": [
    "## While Loop\n",
    "\n",
    "In Pyhton a while loop is probabilly less used than the for loop, but it is handy when we have a condition to check."
   ]
  },
  {
   "cell_type": "code",
   "execution_count": 42,
   "metadata": {
    "slideshow": {
     "slide_type": "subslide"
    }
   },
   "outputs": [
    {
     "name": "stdout",
     "output_type": "stream",
     "text": [
      "1\n",
      "2\n",
      "3\n",
      "4\n",
      "5\n",
      "6\n",
      "7\n",
      "8\n",
      "9\n",
      "10\n"
     ]
    }
   ],
   "source": [
    "#First while example\n",
    "i=0\n",
    "while i<10:\n",
    "    print(i)\n",
    "    i+=1\n",
    "#Take note of the compact version on i=i+1"
   ]
  },
  {
   "cell_type": "markdown",
   "metadata": {
    "slideshow": {
     "slide_type": "fragment"
    }
   },
   "source": [
    "We can also cancatenate the while loop with an else, like if."
   ]
  },
  {
   "cell_type": "code",
   "execution_count": 43,
   "metadata": {
    "slideshow": {
     "slide_type": "fragment"
    }
   },
   "outputs": [
    {
     "name": "stdout",
     "output_type": "stream",
     "text": [
      "0  is  less than 5\n",
      "1  is  less than 5\n",
      "2  is  less than 5\n",
      "3  is  less than 5\n",
      "4  is  less than 5\n",
      "5  is not less than 5\n"
     ]
    }
   ],
   "source": [
    "count = 0\n",
    "while count < 5:\n",
    "   print(count, \" is  less than 5\")\n",
    "   count += 1\n",
    "else:\n",
    "   print(count, \" is not less than 5\")"
   ]
  },
  {
   "cell_type": "markdown",
   "metadata": {
    "slideshow": {
     "slide_type": "slide"
    }
   },
   "source": [
    "### Comparison between while and for\n",
    "\n",
    "Now we'll do a comparison of performance between `for` and `while`, in order ot understand why `for` is the most used.\n",
    "\n",
    "What is your bet on the result?"
   ]
  },
  {
   "cell_type": "code",
   "execution_count": 44,
   "metadata": {
    "slideshow": {
     "slide_type": "subslide"
    }
   },
   "outputs": [
    {
     "name": "stdout",
     "output_type": "stream",
     "text": [
      "368 µs ± 39 µs per loop (mean ± std. dev. of 7 runs, 100 loops each)\n"
     ]
    }
   ],
   "source": [
    "%%timeit -n 100\n",
    "j=0\n",
    "for i in longListP:\n",
    "    j+=1"
   ]
  },
  {
   "cell_type": "code",
   "execution_count": 45,
   "metadata": {
    "slideshow": {
     "slide_type": "fragment"
    }
   },
   "outputs": [
    {
     "name": "stdout",
     "output_type": "stream",
     "text": [
      "1.26 ms ± 51.7 µs per loop (mean ± std. dev. of 7 runs, 100 loops each)\n"
     ]
    }
   ],
   "source": [
    "%%timeit -n 100\n",
    "j=0\n",
    "while j<=len(longListP)-1:\n",
    "    j+=1"
   ]
  },
  {
   "cell_type": "markdown",
   "metadata": {},
   "source": [
    "So the `for` loop is faster. But what if I have to exit from the loop when a given condition is reached?\n",
    "\n",
    "Must I use `while`?"
   ]
  },
  {
   "cell_type": "code",
   "execution_count": 46,
   "metadata": {},
   "outputs": [
    {
     "name": "stdout",
     "output_type": "stream",
     "text": [
      "0\n",
      "1\n",
      "2\n",
      "3\n",
      "4\n",
      "5\n",
      "6\n",
      "7\n",
      "8\n",
      "9\n",
      "10\n"
     ]
    }
   ],
   "source": [
    "for i in longListP:\n",
    "    print(i)\n",
    "    if i == 10:\n",
    "        break"
   ]
  },
  {
   "cell_type": "code",
   "execution_count": 51,
   "metadata": {},
   "outputs": [
    {
     "ename": "SyntaxError",
     "evalue": "invalid syntax (<ipython-input-51-19af9c90a3a7>, line 6)",
     "output_type": "error",
     "traceback": [
      "\u001b[0;36m  File \u001b[0;32m\"<ipython-input-51-19af9c90a3a7>\"\u001b[0;36m, line \u001b[0;32m6\u001b[0m\n\u001b[0;31m    else:\u001b[0m\n\u001b[0m       ^\u001b[0m\n\u001b[0;31mSyntaxError\u001b[0m\u001b[0;31m:\u001b[0m invalid syntax\n"
     ]
    }
   ],
   "source": [
    "for i in 'pluto':\n",
    "    if i == 'u':\n",
    "        a=1\n",
    "    continue\n",
    "    else:\n",
    "        print(i)\n"
   ]
  },
  {
   "cell_type": "code",
   "execution_count": 52,
   "metadata": {},
   "outputs": [
    {
     "name": "stdout",
     "output_type": "stream",
     "text": [
      "550 µs ± 20.8 µs per loop (mean ± std. dev. of 7 runs, 100 loops each)\n"
     ]
    }
   ],
   "source": [
    "%%timeit -n 100\n",
    "m = len(longListP)\n",
    "j = 1\n",
    "for i in longListP:\n",
    "    if j == m:\n",
    "        break\n",
    "    else: \n",
    "        j += 1"
   ]
  },
  {
   "cell_type": "markdown",
   "metadata": {},
   "source": [
    "## Recap\n",
    "\n",
    "Using the `for` and `while` loop we can iterate over structure, text, ranges ....\n",
    "\n",
    "Often the `for` loop is the most usefull operator.\n",
    "\n",
    "`While` instead give is the possibility of iterate until a give condition is reached.\n",
    "\n",
    "If we are using a `for` loop, we still can controll the execution of the loop using:\n",
    "\n",
    "  - `break`\n",
    "  - `continue`"
   ]
  },
  {
   "cell_type": "markdown",
   "metadata": {},
   "source": [
    "## Exercise While \n",
    "\n",
    "We want to create a big list that contains the Fibonacci's sequence.\n",
    "\n",
    "Starting from the list [1,2] we want to add elements until the sum of elements are less than 100.\n",
    "\n",
    "Use a for Loop to calculate the sum of the elements at each time."
   ]
  },
  {
   "cell_type": "code",
   "execution_count": 59,
   "metadata": {},
   "outputs": [
    {
     "name": "stdout",
     "output_type": "stream",
     "text": [
      "[1, 2, 3, 5, 8, 13, 21, 34, 55]\n"
     ]
    }
   ],
   "source": [
    "fibList = [1,2]\n",
    "sumEl = 0\n",
    "while sumEl<100:\n",
    "    fibList.append(fibList[-1]+fibList[-2])\n",
    "    sumEl = 0\n",
    "    for elem in fibList:\n",
    "        sumEl = sumEl + elem\n",
    "print(fibList)"
   ]
  },
  {
   "cell_type": "code",
   "execution_count": 60,
   "metadata": {},
   "outputs": [
    {
     "ename": "NameError",
     "evalue": "name 'i_miss' is not defined",
     "output_type": "error",
     "traceback": [
      "\u001b[0;31m---------------------------------------------------------------------------\u001b[0m",
      "\u001b[0;31mNameError\u001b[0m                                 Traceback (most recent call last)",
      "\u001b[0;32m<ipython-input-60-37b656071b33>\u001b[0m in \u001b[0;36m<module>\u001b[0;34m\u001b[0m\n\u001b[1;32m      2\u001b[0m \u001b[0mb\u001b[0m\u001b[0;34m=\u001b[0m\u001b[0;36m2\u001b[0m\u001b[0;34m\u001b[0m\u001b[0;34m\u001b[0m\u001b[0m\n\u001b[1;32m      3\u001b[0m \u001b[0;31m#i_miss = 0\u001b[0m\u001b[0;34m\u001b[0m\u001b[0;34m\u001b[0m\u001b[0;34m\u001b[0m\u001b[0m\n\u001b[0;32m----> 4\u001b[0;31m \u001b[0;32mwhile\u001b[0m \u001b[0mi_miss\u001b[0m\u001b[0;34m<\u001b[0m\u001b[0;36m100\u001b[0m\u001b[0;34m:\u001b[0m\u001b[0;34m\u001b[0m\u001b[0;34m\u001b[0m\u001b[0m\n\u001b[0m\u001b[1;32m      5\u001b[0m     \u001b[0mprint\u001b[0m\u001b[0;34m(\u001b[0m\u001b[0;34m'somethin'\u001b[0m\u001b[0;34m)\u001b[0m\u001b[0;34m\u001b[0m\u001b[0;34m\u001b[0m\u001b[0m\n",
      "\u001b[0;31mNameError\u001b[0m: name 'i_miss' is not defined"
     ]
    }
   ],
   "source": []
  },
  {
   "cell_type": "code",
   "execution_count": 58,
   "metadata": {},
   "outputs": [
    {
     "data": {
      "text/plain": [
       "[1] \"a\"\n",
       "[1] \"b\"\n",
       "[1] \"c\"\n"
      ]
     },
     "metadata": {},
     "output_type": "display_data"
    }
   ],
   "source": [
    "%%R\n",
    "a=c('a','b','c')\n",
    "for (i in a) {print(i)}"
   ]
  },
  {
   "cell_type": "markdown",
   "metadata": {
    "slideshow": {
     "slide_type": "slide"
    }
   },
   "source": [
    "## If else \n",
    "\n",
    "Like in R, in Python we can use if-else for logical conditions, even in one-liner format.\n",
    "We can also use three conditions with `elif`."
   ]
  },
  {
   "cell_type": "code",
   "execution_count": 61,
   "metadata": {
    "slideshow": {
     "slide_type": "subslide"
    }
   },
   "outputs": [
    {
     "name": "stdout",
     "output_type": "stream",
     "text": [
      "J is more or equal than 9\n"
     ]
    }
   ],
   "source": [
    "#First example\n",
    "j=10\n",
    "if j<9:\n",
    "    print('J is less than 9')\n",
    "else:\n",
    "    print('J is more or equal than 9')"
   ]
  },
  {
   "cell_type": "code",
   "execution_count": 62,
   "metadata": {
    "slideshow": {
     "slide_type": "subslide"
    }
   },
   "outputs": [
    {
     "name": "stdout",
     "output_type": "stream",
     "text": [
      "J is less than 9\n"
     ]
    }
   ],
   "source": [
    "#One-liner format\n",
    "j=5\n",
    "print('J is less than 9') if j<9 else print('J is more or equal than 9')"
   ]
  },
  {
   "cell_type": "code",
   "execution_count": 64,
   "metadata": {
    "slideshow": {
     "slide_type": "subslide"
    }
   },
   "outputs": [
    {
     "name": "stdout",
     "output_type": "stream",
     "text": [
      "Equal\n",
      "Eq\n"
     ]
    }
   ],
   "source": [
    "#Elif\n",
    "j=10\n",
    "if j<9:\n",
    "    print('Less')\n",
    "elif j==10:\n",
    "    print('Equal')\n",
    "else:\n",
    "    print('More')\n",
    "    \n",
    "if j<9:\n",
    "    print('Less')\n",
    "else:\n",
    "    if j==10:\n",
    "        print('Eq')\n",
    "    else:\n",
    "        print('More')"
   ]
  },
  {
   "cell_type": "markdown",
   "metadata": {
    "slideshow": {
     "slide_type": "subslide"
    }
   },
   "source": [
    "Often is very handy to use logical condition over `type`. In this cases we will use `isistance`."
   ]
  },
  {
   "cell_type": "code",
   "execution_count": 66,
   "metadata": {
    "slideshow": {
     "slide_type": "fragment"
    }
   },
   "outputs": [
    {
     "name": "stdout",
     "output_type": "stream",
     "text": [
      "I am at the postion 0\n",
      "The element is a string: Test string\n",
      "I am at the postion 1\n",
      "The element is not a string: 10\n"
     ]
    }
   ],
   "source": [
    "s='Test string'\n",
    "ns=10\n",
    "testList=[s,ns]\n",
    "for i,cur_elm in enumerate(testList):\n",
    "    print('I am at the postion',i)\n",
    "    if isinstance(cur_elm,str):\n",
    "        print('The element is a string: %s'%cur_elm)\n",
    "    else:\n",
    "        print('The element is not a string: %i'%ns)"
   ]
  },
  {
   "cell_type": "markdown",
   "metadata": {
    "slideshow": {
     "slide_type": "subslide"
    }
   },
   "source": [
    "**NOTE:** in python every empty data structure (list,dict....) is considered `False` in a if statement.\n",
    "    Also `0` is considered `False`, `1` is cosidered `True`"
   ]
  },
  {
   "cell_type": "code",
   "execution_count": 67,
   "metadata": {
    "slideshow": {
     "slide_type": "fragment"
    }
   },
   "outputs": [
    {
     "name": "stdout",
     "output_type": "stream",
     "text": [
      "d is empty\n"
     ]
    }
   ],
   "source": [
    "#Check for an empty dict\n",
    "d={}\n",
    "if d:\n",
    "    pp('d')\n",
    "else:\n",
    "    print('d is empty')\n",
    "#Check for 0"
   ]
  },
  {
   "cell_type": "code",
   "execution_count": 68,
   "metadata": {
    "slideshow": {
     "slide_type": "fragment"
    }
   },
   "outputs": [
    {
     "name": "stdout",
     "output_type": "stream",
     "text": [
      "Check faild\n"
     ]
    }
   ],
   "source": [
    "zero=0\n",
    "if zero:\n",
    "    print('Check passed')\n",
    "else:\n",
    "    print('Check faild')"
   ]
  },
  {
   "cell_type": "markdown",
   "metadata": {},
   "source": [
    "## Real-life Example\n",
    "\n",
    "I want to loop over some Shakespeare's books and try to count the number of row in each book.\n",
    "\n",
    "I want to create a Dictionary to recap the results.\n",
    "\n",
    "The file are in `Cattolica2019/FirstLesson/data`."
   ]
  },
  {
   "cell_type": "code",
   "execution_count": 73,
   "metadata": {},
   "outputs": [
    {
     "name": "stderr",
     "output_type": "stream",
     "text": [
      "2019-10-23 17:00:44,068 : ERROR : The name of the file is shakespeare-macbeth-46.txt\n",
      "2019-10-23 17:00:44,068 : INFO : The path of the file is data/shakespeare-macbeth-46.txt\n",
      "2019-10-23 17:00:44,069 : INFO : For the file shakespeare-macbeth-46.txt the Title is \tMACBETH\n",
      "\n",
      "2019-10-23 17:00:44,070 : INFO : END OF FILE shakespeare-macbeth-46.txt\n",
      "2019-10-23 17:00:44,071 : ERROR : The name of the file is shakespeare-antony-23.txt\n",
      "2019-10-23 17:00:44,071 : INFO : The path of the file is data/shakespeare-antony-23.txt\n",
      "2019-10-23 17:00:44,072 : INFO : For the file shakespeare-antony-23.txt the Title is \tANTONY AND CLEOPATRA\n",
      "\n",
      "2019-10-23 17:00:44,074 : INFO : END OF FILE shakespeare-antony-23.txt\n",
      "2019-10-23 17:00:44,074 : ERROR : The name of the file is shakespeare-as-12.txt\n",
      "2019-10-23 17:00:44,075 : INFO : The path of the file is data/shakespeare-as-12.txt\n",
      "2019-10-23 17:00:44,075 : INFO : For the file shakespeare-as-12.txt the Title is \tAS YOU LIKE IT\n",
      "\n",
      "2019-10-23 17:00:44,077 : INFO : END OF FILE shakespeare-as-12.txt\n",
      "2019-10-23 17:00:44,077 : ERROR : The name of the file is shakespeare-othello-47.txt\n",
      "2019-10-23 17:00:44,078 : INFO : The path of the file is data/shakespeare-othello-47.txt\n",
      "2019-10-23 17:00:44,078 : INFO : For the file shakespeare-othello-47.txt the Title is \tOTHELLO\n",
      "\n",
      "2019-10-23 17:00:44,080 : INFO : END OF FILE shakespeare-othello-47.txt\n",
      "2019-10-23 17:00:44,081 : ERROR : The name of the file is shakespeare-alls-11.txt\n",
      "2019-10-23 17:00:44,082 : INFO : The path of the file is data/shakespeare-alls-11.txt\n",
      "2019-10-23 17:00:44,082 : INFO : For the file shakespeare-alls-11.txt the Title is \tALL'S WELL THAT ENDS WELL\n",
      "\n",
      "2019-10-23 17:00:44,084 : INFO : END OF FILE shakespeare-alls-11.txt\n",
      "2019-10-23 17:00:44,084 : INFO : END OF ALL FILES\n"
     ]
    },
    {
     "name": "stdout",
     "output_type": "stream",
     "text": [
      "{'shakespeare-alls-11.txt': 4343,\n",
      " 'shakespeare-antony-23.txt': 5689,\n",
      " 'shakespeare-as-12.txt': 3954,\n",
      " 'shakespeare-macbeth-46.txt': 3674,\n",
      " 'shakespeare-othello-47.txt': 5313}\n"
     ]
    }
   ],
   "source": [
    "import os\n",
    "import logging \n",
    "from pprint import pprint as pp\n",
    "\n",
    "logging.basicConfig(format='%(asctime)s : %(levelname)s : %(message)s', level=logging.INFO)\n",
    "logger = logging.getLogger('')\n",
    "\n",
    "fold = 'data'\n",
    "dictCountLines = dict()\n",
    "\n",
    "for curFile in os.listdir(fold):\n",
    "    logger.error('The name of the file is %s',curFile)\n",
    "    #count = 0\n",
    "    fullPath = os.path.join(fold,curFile)\n",
    "    logger.info('The path of the file is %s',fullPath)\n",
    "    with open(fullPath,'r') as fi:\n",
    "        for i, line in enumerate(fi):\n",
    "            if i==0:\n",
    "                logger.info('For the file %s the Title is %s',curFile,line)\n",
    "            #count += 1\n",
    "        dictCountLines[curFile] = i+1 #count\n",
    "    logger.info('END OF FILE %s',curFile)\n",
    "logger.info('END OF ALL FILES')\n",
    "pp(dictCountLines)\n"
   ]
  },
  {
   "cell_type": "markdown",
   "metadata": {
    "slideshow": {
     "slide_type": "slide"
    }
   },
   "source": [
    "## End Exercise #1\n",
    "\n",
    "Now let's try to put all together.\n",
    "\n",
    "Starting from a dict with keys like 1,2,3,4... and value like 'a', 'b', 'c'... use a for loop to create a set that\n",
    "  * Contains all the values that have an even key, except for the key 2\n",
    "  * Contains the value for the key 5\n",
    "    \n",
    "We want also to print the key each time we hit an odd key\n",
    "\n",
    "Than use a while loop to empty the set. You have to stop when the set is empty.\n",
    "\n",
    "**HINT #1:** `%2` it's module two\n",
    "\n",
    "**HINT #2:** Maybe you can use\n",
    "```\n",
    "import string \n",
    "letters = string.ascii_lowercase\n",
    "```"
   ]
  },
  {
   "cell_type": "code",
   "execution_count": 86,
   "metadata": {
    "slideshow": {
     "slide_type": "subslide"
    }
   },
   "outputs": [
    {
     "name": "stdout",
     "output_type": "stream",
     "text": [
      "abcdefghijklmnopqrstuvwxyz\n",
      "The key is odd:1\n",
      "The key is 2\n",
      "The key is odd:3\n",
      "The key is odd:5\n",
      "The key is odd:7\n",
      "The key is odd:9\n",
      "The key is odd:11\n",
      "The key is odd:13\n",
      "The key is odd:15\n",
      "The key is odd:17\n",
      "The key is odd:19\n",
      "The key is odd:21\n",
      "The key is odd:23\n",
      "The key is odd:25\n",
      "{'x', 'z', 't', 'r', 'h', 'n', 'd', 'f', 'j', 'e', 'v', 'p', 'l'}\n"
     ]
    }
   ],
   "source": [
    "import string \n",
    "letters = string.ascii_lowercase\n",
    "print(letters)\n",
    "startDict = {}\n",
    "for i,curLet in enumerate(letters):\n",
    "    startDict[i+1] = curLet\n",
    "#pp(startDict)\n",
    "retSet = set()\n",
    "for k,v in startDict.items():\n",
    "    if k%2==0:\n",
    "        if k ==2:\n",
    "            print('The key is 2')\n",
    "        else:\n",
    "            retSet.add(v)\n",
    "    else:\n",
    "        print('The key is odd:%i'%k)\n",
    "        if k==5:\n",
    "            retSet.add(v)\n",
    "print(retSet) \n",
    "#print(startDict)"
   ]
  },
  {
   "cell_type": "markdown",
   "metadata": {},
   "source": [
    "## End Exercise #2\n",
    "\n",
    "Comment the code block below"
   ]
  },
  {
   "cell_type": "code",
   "execution_count": 87,
   "metadata": {},
   "outputs": [
    {
     "ename": "AttributeError",
     "evalue": "'dict' object has no attribute 'a'",
     "output_type": "error",
     "traceback": [
      "\u001b[0;31m---------------------------------------------------------------------------\u001b[0m",
      "\u001b[0;31mAttributeError\u001b[0m                            Traceback (most recent call last)",
      "\u001b[0;32m<ipython-input-87-758157dc89a1>\u001b[0m in \u001b[0;36m<module>\u001b[0;34m\u001b[0m\n\u001b[1;32m      1\u001b[0m \u001b[0md_es\u001b[0m \u001b[0;34m=\u001b[0m \u001b[0;34m{\u001b[0m\u001b[0;34m'a'\u001b[0m\u001b[0;34m:\u001b[0m\u001b[0;36m1\u001b[0m\u001b[0;34m,\u001b[0m\u001b[0;34m'b'\u001b[0m\u001b[0;34m:\u001b[0m\u001b[0;36m2\u001b[0m\u001b[0;34m}\u001b[0m\u001b[0;34m\u001b[0m\u001b[0;34m\u001b[0m\u001b[0m\n\u001b[0;32m----> 2\u001b[0;31m \u001b[0md_es\u001b[0m\u001b[0;34m.\u001b[0m\u001b[0ma\u001b[0m\u001b[0;34m\u001b[0m\u001b[0;34m\u001b[0m\u001b[0m\n\u001b[0m",
      "\u001b[0;31mAttributeError\u001b[0m: 'dict' object has no attribute 'a'"
     ]
    }
   ],
   "source": [
    "d_es = {'a':1,'b':2}\n"
   ]
  },
  {
   "cell_type": "code",
   "execution_count": null,
   "metadata": {},
   "outputs": [],
   "source": [
    "import random\n",
    "import string\n",
    "letters = string.ascii_lowercase\n",
    "retList = []\n",
    "for i in range(10000):\n",
    "    curRandom = random.randrange(0,20)\n",
    "    retList.append(letters[curRandom])"
   ]
  },
  {
   "cell_type": "markdown",
   "metadata": {},
   "source": [
    "Now create a dict with the number of occorrence of each letter in retList"
   ]
  },
  {
   "cell_type": "code",
   "execution_count": null,
   "metadata": {},
   "outputs": [],
   "source": []
  }
 ],
 "metadata": {
  "celltoolbar": "Slideshow",
  "kernelspec": {
   "display_name": "Python 3",
   "language": "python",
   "name": "python3"
  },
  "language_info": {
   "codemirror_mode": {
    "name": "ipython",
    "version": 3
   },
   "file_extension": ".py",
   "mimetype": "text/x-python",
   "name": "python",
   "nbconvert_exporter": "python",
   "pygments_lexer": "ipython3",
   "version": "3.7.3"
  },
  "toc": {
   "base_numbering": 1,
   "nav_menu": {},
   "number_sections": false,
   "sideBar": false,
   "skip_h1_title": false,
   "title_cell": "Table of Contents",
   "title_sidebar": "Contents",
   "toc_cell": false,
   "toc_position": {},
   "toc_section_display": false,
   "toc_window_display": false
  }
 },
 "nbformat": 4,
 "nbformat_minor": 2
}
