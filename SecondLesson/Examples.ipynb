{
 "cells": [
  {
   "cell_type": "code",
   "execution_count": null,
   "metadata": {},
   "outputs": [],
   "source": [
    "#Example numpy\n",
    "a=np.array([[1,2],[4,5],[6,7]])\n",
    "np.append(a,[[0,0]],axis=0)\n",
    "np.append(a,[['a','b'],['a','b'],['a','b']],axis=1)"
   ]
  },
  {
   "cell_type": "code",
   "execution_count": null,
   "metadata": {},
   "outputs": [],
   "source": [
    "#Examples df\n",
    "\n",
    "dfEx1 = pd.DataFrame({'a':[1,2,3],'b':[4,5,6],'c':[7,8,9]})\n",
    "dfEx2 = pd.DataFrame({'a':[10,20,30],'b':[40,50,60],'c':[70,80,90]})\n",
    "dfEx2['new'] = list(dfEx1.iloc[1,:])\n",
    "dfEx2.index = ['a','b','c']\n",
    "display(dfEx2)\n",
    "dfEx2.loc[['a','c'],['b','new']]\n",
    "\n"
   ]
  },
  {
   "cell_type": "code",
   "execution_count": null,
   "metadata": {},
   "outputs": [],
   "source": []
  },
  {
   "cell_type": "code",
   "execution_count": 11,
   "metadata": {},
   "outputs": [
    {
     "data": {
      "text/html": [
       "<div>\n",
       "<style scoped>\n",
       "    .dataframe tbody tr th:only-of-type {\n",
       "        vertical-align: middle;\n",
       "    }\n",
       "\n",
       "    .dataframe tbody tr th {\n",
       "        vertical-align: top;\n",
       "    }\n",
       "\n",
       "    .dataframe thead th {\n",
       "        text-align: right;\n",
       "    }\n",
       "</style>\n",
       "<table border=\"1\" class=\"dataframe\">\n",
       "  <thead>\n",
       "    <tr style=\"text-align: right;\">\n",
       "      <th></th>\n",
       "      <th>let</th>\n",
       "      <th>num</th>\n",
       "      <th>col</th>\n",
       "      <th>fru</th>\n",
       "    </tr>\n",
       "  </thead>\n",
       "  <tbody>\n",
       "    <tr>\n",
       "      <th>0</th>\n",
       "      <td>a</td>\n",
       "      <td>1</td>\n",
       "      <td>red</td>\n",
       "      <td>apple</td>\n",
       "    </tr>\n",
       "    <tr>\n",
       "      <th>1</th>\n",
       "      <td>b</td>\n",
       "      <td>2</td>\n",
       "      <td>green</td>\n",
       "      <td>banana</td>\n",
       "    </tr>\n",
       "    <tr>\n",
       "      <th>2</th>\n",
       "      <td>c</td>\n",
       "      <td>3</td>\n",
       "      <td>blue</td>\n",
       "      <td>NaN</td>\n",
       "    </tr>\n",
       "    <tr>\n",
       "      <th>3</th>\n",
       "      <td>d</td>\n",
       "      <td>4</td>\n",
       "      <td>yellow</td>\n",
       "      <td>peach</td>\n",
       "    </tr>\n",
       "  </tbody>\n",
       "</table>\n",
       "</div>"
      ],
      "text/plain": [
       "  let  num     col     fru\n",
       "0   a    1     red   apple\n",
       "1   b    2   green  banana\n",
       "2   c    3    blue     NaN\n",
       "3   d    4  yellow   peach"
      ]
     },
     "metadata": {},
     "output_type": "display_data"
    },
    {
     "data": {
      "text/html": [
       "<div>\n",
       "<style scoped>\n",
       "    .dataframe tbody tr th:only-of-type {\n",
       "        vertical-align: middle;\n",
       "    }\n",
       "\n",
       "    .dataframe tbody tr th {\n",
       "        vertical-align: top;\n",
       "    }\n",
       "\n",
       "    .dataframe thead th {\n",
       "        text-align: right;\n",
       "    }\n",
       "</style>\n",
       "<table border=\"1\" class=\"dataframe\">\n",
       "  <thead>\n",
       "    <tr style=\"text-align: right;\">\n",
       "      <th></th>\n",
       "      <th>col</th>\n",
       "    </tr>\n",
       "    <tr>\n",
       "      <th>let</th>\n",
       "      <th></th>\n",
       "    </tr>\n",
       "  </thead>\n",
       "  <tbody>\n",
       "    <tr>\n",
       "      <th>b</th>\n",
       "      <td>green</td>\n",
       "    </tr>\n",
       "    <tr>\n",
       "      <th>c</th>\n",
       "      <td>blue</td>\n",
       "    </tr>\n",
       "    <tr>\n",
       "      <th>d</th>\n",
       "      <td>yellow</td>\n",
       "    </tr>\n",
       "  </tbody>\n",
       "</table>\n",
       "</div>"
      ],
      "text/plain": [
       "        col\n",
       "let        \n",
       "b     green\n",
       "c      blue\n",
       "d    yellow"
      ]
     },
     "metadata": {},
     "output_type": "display_data"
    },
    {
     "name": "stdout",
     "output_type": "stream",
     "text": [
      "<class 'pandas.core.frame.DataFrame'>\n"
     ]
    },
    {
     "data": {
      "text/plain": [
       "pandas.core.series.Series"
      ]
     },
     "execution_count": 11,
     "metadata": {},
     "output_type": "execute_result"
    }
   ],
   "source": [
    "## Example Drop\n",
    "import pandas as pd \n",
    "import numpy as np\n",
    "dictDF = {'let':['a','b','c','d'],\n",
    "         'num':[1,2,3,4],\n",
    "         'col':['red','green','blue','yellow'],\n",
    "         'fru':['apple','banana',np.nan,'peach']}\n",
    "df = pd.DataFrame(dictDF)\n",
    "display(df)\n",
    "df.drop(columns=['num'],inplace=True)\n",
    "df.set_index('let',inplace=True)\n",
    "df.drop('a',inplace=True,axis=0)\n",
    "df.dropna(axis=1,inplace=True)\n",
    "display(df)\n",
    "print(type(df))\n",
    "type(df.loc[:,'col'])"
   ]
  },
  {
   "cell_type": "code",
   "execution_count": null,
   "metadata": {},
   "outputs": [],
   "source": [
    "#Example join \n",
    "\n",
    "arr = np.array([['a',1,10],['b',2,20],['c',3,30],['b',4,40],['c',5,50],['d',6,60]])\n",
    "df = pd.DataFrame(arr,columns=['k','c1','c2'])\n",
    "df1 = df.loc[0:2,['k','c1']]\n",
    "df2 = df.loc[3:,['k','c2']]\n",
    "display(df1)\n",
    "display(df2)\n",
    "df1.set_index('k',inplace=True)\n",
    "df2.set_index('k',inplace=True)\n",
    "dfJoin = df1.join(df2,how='inner')\n",
    "dfJoin.drop('c2',axis=1)"
   ]
  }
 ],
 "metadata": {
  "kernelspec": {
   "display_name": "Python 3",
   "language": "python",
   "name": "python3"
  },
  "language_info": {
   "codemirror_mode": {
    "name": "ipython",
    "version": 3
   },
   "file_extension": ".py",
   "mimetype": "text/x-python",
   "name": "python",
   "nbconvert_exporter": "python",
   "pygments_lexer": "ipython3",
   "version": "3.7.3"
  }
 },
 "nbformat": 4,
 "nbformat_minor": 2
}
